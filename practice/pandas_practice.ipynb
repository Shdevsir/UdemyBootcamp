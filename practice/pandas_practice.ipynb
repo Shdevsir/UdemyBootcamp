{
 "cells": [
  {
   "cell_type": "code",
   "execution_count": 3,
   "metadata": {},
   "outputs": [],
   "source": [
    "import pandas as pd\n",
    "import lxml"
   ]
  },
  {
   "cell_type": "code",
   "execution_count": 4,
   "metadata": {},
   "outputs": [],
   "source": [
    "x = pd.read_html('https://github.com/mwaskom/seaborn-data/blob/master/tips.csv')\n"
   ]
  },
  {
   "cell_type": "code",
   "execution_count": 5,
   "metadata": {},
   "outputs": [
    {
     "data": {
      "text/plain": [
       "[     Unnamed: 0  total_bill   tip     sex smoker   day    time  size\n",
       " 0           NaN       16.99  1.01  Female     No   Sun  Dinner     2\n",
       " 1           NaN       10.34  1.66    Male     No   Sun  Dinner     3\n",
       " 2           NaN       21.01  3.50    Male     No   Sun  Dinner     3\n",
       " 3           NaN       23.68  3.31    Male     No   Sun  Dinner     2\n",
       " 4           NaN       24.59  3.61  Female     No   Sun  Dinner     4\n",
       " ..          ...         ...   ...     ...    ...   ...     ...   ...\n",
       " 239         NaN       29.03  5.92    Male     No   Sat  Dinner     3\n",
       " 240         NaN       27.18  2.00  Female    Yes   Sat  Dinner     2\n",
       " 241         NaN       22.67  2.00    Male    Yes   Sat  Dinner     2\n",
       " 242         NaN       17.82  1.75    Male     No   Sat  Dinner     2\n",
       " 243         NaN       18.78  3.00  Female     No  Thur  Dinner     2\n",
       " \n",
       " [244 rows x 8 columns]]"
      ]
     },
     "execution_count": 5,
     "metadata": {},
     "output_type": "execute_result"
    }
   ],
   "source": [
    "x.sort('size')"
   ]
  }
 ],
 "metadata": {
  "interpreter": {
   "hash": "31f2aee4e71d21fbe5cf8b01ff0e069b9275f58929596ceb00d14d90e3e16cd6"
  },
  "kernelspec": {
   "display_name": "Python 3.8.10 64-bit",
   "language": "python",
   "name": "python3"
  },
  "language_info": {
   "codemirror_mode": {
    "name": "ipython",
    "version": 3
   },
   "file_extension": ".py",
   "mimetype": "text/x-python",
   "name": "python",
   "nbconvert_exporter": "python",
   "pygments_lexer": "ipython3",
   "version": "3.8.10"
  },
  "orig_nbformat": 4
 },
 "nbformat": 4,
 "nbformat_minor": 2
}
